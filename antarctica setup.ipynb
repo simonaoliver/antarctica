{
 "cells": [
  {
   "cell_type": "code",
   "execution_count": 99,
   "metadata": {},
   "outputs": [],
   "source": [
    "import os\n",
    "import geopandas\n",
    "import pandas\n",
    "import zipfile\n",
    "import numpy as np\n",
    "import matplotlib.pyplot as plot"
   ]
  },
  {
   "cell_type": "code",
   "execution_count": 2,
   "metadata": {},
   "outputs": [],
   "source": [
    "if not os.path.exists('LANDSAT_OT_C2_L1.csv.gz'):\n",
    "    !wget \"https://landsat.usgs.gov/landsat/metadata_service/bulk_metadata_files/LANDSAT_OT_C2_L1.gz\"\n",
    "ot_c2 = pandas.read_csv('LANDSAT_OT_C2_L1.csv.gz')"
   ]
  },
  {
   "cell_type": "code",
   "execution_count": 3,
   "metadata": {},
   "outputs": [
    {
     "name": "stderr",
     "output_type": "stream",
     "text": [
      "/home/simonaoliver/anaconda3/envs/satellite_footprint/lib/python3.7/site-packages/IPython/core/interactiveshell.py:3063: DtypeWarning: Columns (30) have mixed types.Specify dtype option on import or set low_memory=False.\n",
      "  interactivity=interactivity, compiler=compiler, result=result)\n"
     ]
    }
   ],
   "source": [
    "if not os.path.exists('LANDSAT_ETM_C2_L1.csv.gz'):\n",
    "    !wget \"https://landsat.usgs.gov/landsat/metadata_service/bulk_metadata_files/LANDSAT_ETM_C2_L1.csv.gz\"\n",
    "etm_c2 = pandas.read_csv('LANDSAT_ETM_C2_L1.csv.gz')"
   ]
  },
  {
   "cell_type": "code",
   "execution_count": 4,
   "metadata": {},
   "outputs": [
    {
     "name": "stderr",
     "output_type": "stream",
     "text": [
      "/home/simonaoliver/anaconda3/envs/satellite_footprint/lib/python3.7/site-packages/IPython/core/interactiveshell.py:3063: DtypeWarning: Columns (25) have mixed types.Specify dtype option on import or set low_memory=False.\n",
      "  interactivity=interactivity, compiler=compiler, result=result)\n"
     ]
    }
   ],
   "source": [
    "if not os.path.exists('LANDSAT_TM_C2_L1.csv.gz'):\n",
    "    !wget \"https://landsat.usgs.gov/landsat/metadata_service/bulk_metadata_files/LANDSAT_TM_C2_L1.csv.gz\"\n",
    "tm_c2 = pandas.read_csv('LANDSAT_TM_C2_L1.csv.gz') \n"
   ]
  },
  {
   "cell_type": "code",
   "execution_count": 5,
   "metadata": {},
   "outputs": [],
   "source": [
    "if not os.path.exists('WRS2_descending_0.zip'):\n",
    "    !wget \"https://d9-wret.s3.us-west-2.amazonaws.com/assets/palladium/production/s3fs-public/atoms/files/WRS2_descending_0.zip\"\n",
    "wrs2desc = geopandas.GeoDataFrame.from_file('WRS2_descending_0.zip') "
   ]
  },
  {
   "cell_type": "code",
   "execution_count": 6,
   "metadata": {},
   "outputs": [],
   "source": [
    "if not os.path.exists('WRS2_ascending_0.zip'):\n",
    "    !wget \"https://d9-wret.s3.us-west-2.amazonaws.com/assets/palladium/production/s3fs-public/atoms/files/WRS2_ascending_0.zip\"\n",
    "wrs2asc = geopandas.GeoDataFrame.from_file('WRS2_ascending_0.zip')"
   ]
  },
  {
   "cell_type": "code",
   "execution_count": 58,
   "metadata": {},
   "outputs": [],
   "source": [
    "ot_c2['PR'] = ot_c2['WRS Path'].map(str).str.pad(3,fillchar='0') + ot_c2['WRS Row'].map(str).str.pad(3,fillchar='0')\n",
    "\n",
    "etm_c2['PR'] = etm_c2['WRS Path'].map(str).str.pad(3,fillchar='0') + etm_c2['WRS Row'].map(str).str.pad(3,fillchar='0')\n",
    "\n",
    "tm_c2['PR'] = tm_c2['WRS Path'].map(str).str.pad(3,fillchar='0') + tm_c2['WRS Row'].map(str).str.pad(3,fillchar='0')"
   ]
  },
  {
   "cell_type": "code",
   "execution_count": 132,
   "metadata": {},
   "outputs": [],
   "source": [
    "antarctica = geopandas.GeoDataFrame.from_file('zip://TM_WORLD_BORDERS_SIMPL-0.3.zip')"
   ]
  },
  {
   "cell_type": "code",
   "execution_count": 180,
   "metadata": {},
   "outputs": [],
   "source": [
    "if not os.path.exists('TM_WORLD_BORDERS_SIMPL-0.3.zip'):\n",
    "    !wget 'http://thematicmapping.org/downloads/TM_WORLD_BORDERS_SIMPL-0.3.zip'\n",
    "\n",
    "antarctica = geopandas.GeoDataFrame.from_file('zip://TM_WORLD_BORDERS_SIMPL-0.3.zip')\n",
    "antarctica = antarctica[antarctica.NAME.isin(['Heard Island and McDonald Islands', 'Antarctica'])]"
   ]
  },
  {
   "cell_type": "code",
   "execution_count": 154,
   "metadata": {},
   "outputs": [
    {
     "name": "stderr",
     "output_type": "stream",
     "text": [
      "/home/simonaoliver/anaconda3/envs/satellite_footprint/lib/python3.7/site-packages/geopandas/base.py:31: UserWarning: The indices of the two GeoSeries are different.\n",
      "  warn(\"The indices of the two GeoSeries are different.\")\n"
     ]
    }
   ],
   "source": [
    "wrs2desc.set_index('PR', inplace = True)\n",
    "\n",
    "wrs2desc_intersect = wrs2desc.intersection(antarctica)"
   ]
  },
  {
   "cell_type": "code",
   "execution_count": 155,
   "metadata": {},
   "outputs": [],
   "source": [
    "antarctica.reset_index(inplace = True)\n",
    "\n",
    "wrs2desc.reset_index(inplace = True)"
   ]
  },
  {
   "cell_type": "code",
   "execution_count": 156,
   "metadata": {},
   "outputs": [
    {
     "data": {
      "image/png": "[encoded data removed]",
      "text/plain": [
       "<Figure size 432x288 with 1 Axes>"
      ]
     },
     "metadata": {
      "needs_background": "light"
     },
     "output_type": "display_data"
    }
   ],
   "source": [
    "antarctica_wrs2desc = geopandas.sjoin(wrs2desc, antarctica)\n",
    "\n",
    "antarctica_wrs2desc.plot()\n",
    "\n",
    "antarctica_wrs2desc['PR'] = antarctica_wrs2desc['PATH'].map(str).str.pad(3,fillchar='0') + antarctica_wrs2desc['ROW'].map(str).str.pad(3,fillchar='0')\n",
    "\n",
    "antarctica_wrs2desc.set_index('PR', inplace = True)"
   ]
  },
  {
   "cell_type": "code",
   "execution_count": 157,
   "metadata": {},
   "outputs": [],
   "source": [
    "ot_c2['count'] = 1"
   ]
  },
  {
   "cell_type": "code",
   "execution_count": 158,
   "metadata": {},
   "outputs": [],
   "source": [
    "ot_c2_pivot = ot_c2.pivot_table(index='PR', aggfunc={\"count\": np.sum})"
   ]
  },
  {
   "cell_type": "code",
   "execution_count": 159,
   "metadata": {},
   "outputs": [
    {
     "data": {
      "text/plain": [
       "<matplotlib.axes._subplots.AxesSubplot at 0x7f48f7adab50>"
      ]
     },
     "execution_count": 159,
     "metadata": {},
     "output_type": "execute_result"
    },
    {
     "data": {
      "image/png": "[encoded data removed]",
      "text/plain": [
       "<Figure size 432x288 with 1 Axes>"
      ]
     },
     "metadata": {
      "needs_background": "light"
     },
     "output_type": "display_data"
    }
   ],
   "source": [
    "ot_c2_pivot.plot()"
   ]
  },
  {
   "cell_type": "code",
   "execution_count": 160,
   "metadata": {},
   "outputs": [],
   "source": [
    "etm_c2['count'] = 1"
   ]
  },
  {
   "cell_type": "code",
   "execution_count": 161,
   "metadata": {},
   "outputs": [],
   "source": [
    "etm_c2_pivot = etm_c2.pivot_table(index='PR', aggfunc={\"count\": np.sum})"
   ]
  },
  {
   "cell_type": "code",
   "execution_count": 162,
   "metadata": {},
   "outputs": [
    {
     "data": {
      "text/plain": [
       "<matplotlib.axes._subplots.AxesSubplot at 0x7f48f7bf5b10>"
      ]
     },
     "execution_count": 162,
     "metadata": {},
     "output_type": "execute_result"
    },
    {
     "data": {
      "image/png": "[encoded data removed]",
      "text/plain": [
       "<Figure size 432x288 with 1 Axes>"
      ]
     },
     "metadata": {
      "needs_background": "light"
     },
     "output_type": "display_data"
    }
   ],
   "source": [
    "etm_c2_pivot.plot()"
   ]
  },
  {
   "cell_type": "code",
   "execution_count": 163,
   "metadata": {},
   "outputs": [],
   "source": [
    "tm_c2['count'] = 1"
   ]
  },
  {
   "cell_type": "code",
   "execution_count": 164,
   "metadata": {},
   "outputs": [],
   "source": [
    "tm_c2_pivot = tm_c2.pivot_table(index='PR', aggfunc={\"count\": np.sum})"
   ]
  },
  {
   "cell_type": "code",
   "execution_count": 165,
   "metadata": {
    "scrolled": true
   },
   "outputs": [
    {
     "data": {
      "text/plain": [
       "<matplotlib.axes._subplots.AxesSubplot at 0x7f48f7b2b410>"
      ]
     },
     "execution_count": 165,
     "metadata": {},
     "output_type": "execute_result"
    },
    {
     "data": {
      "image/png": "[encoded data removed]",
      "text/plain": [
       "<Figure size 432x288 with 1 Axes>"
      ]
     },
     "metadata": {
      "needs_background": "light"
     },
     "output_type": "display_data"
    }
   ],
   "source": [
    "tm_c2_pivot.plot()"
   ]
  },
  {
   "cell_type": "code",
   "execution_count": 166,
   "metadata": {},
   "outputs": [],
   "source": [
    "ot_c2_antarctica_wrs2desc = antarctica_wrs2desc.join(ot_c2_pivot, on ='PR')"
   ]
  },
  {
   "cell_type": "code",
   "execution_count": 167,
   "metadata": {},
   "outputs": [
    {
     "data": {
      "text/plain": [
       "<matplotlib.axes._subplots.AxesSubplot at 0x7f48f7dc3110>"
      ]
     },
     "execution_count": 167,
     "metadata": {},
     "output_type": "execute_result"
    },
    {
     "data": {
      "image/png": "[encoded data removed]",
      "text/plain": [
       "<Figure size 432x288 with 1 Axes>"
      ]
     },
     "metadata": {
      "needs_background": "light"
     },
     "output_type": "display_data"
    }
   ],
   "source": [
    "ax = ot_c2_antarctica_wrs2desc.plot(\"count\", cmap='rainbow')\n",
    "antarctica.boundary.plot(ax=ax,  edgecolor='black')"
   ]
  },
  {
   "cell_type": "code",
   "execution_count": 168,
   "metadata": {},
   "outputs": [],
   "source": [
    "etm_c2_antarctica_wrs2desc = antarctica_wrs2desc.join(etm_c2_pivot, on ='PR')"
   ]
  },
  {
   "cell_type": "code",
   "execution_count": 169,
   "metadata": {},
   "outputs": [
    {
     "data": {
      "text/plain": [
       "<matplotlib.axes._subplots.AxesSubplot at 0x7f48f7c7e490>"
      ]
     },
     "execution_count": 169,
     "metadata": {},
     "output_type": "execute_result"
    },
    {
     "data": {
      "image/png": "[encoded data removed]",
      "text/plain": [
       "<Figure size 432x288 with 1 Axes>"
      ]
     },
     "metadata": {
      "needs_background": "light"
     },
     "output_type": "display_data"
    }
   ],
   "source": [
    "ax = etm_c2_antarctica_wrs2desc.plot(\"count\", cmap='rainbow')\n",
    "antarctica.boundary.plot(ax=ax,  edgecolor='black')"
   ]
  },
  {
   "cell_type": "code",
   "execution_count": 170,
   "metadata": {},
   "outputs": [],
   "source": [
    "tm_c2_antarctica_wrs2desc = antarctica_wrs2desc.join(tm_c2_pivot, on ='PR')"
   ]
  },
  {
   "cell_type": "code",
   "execution_count": 171,
   "metadata": {},
   "outputs": [
    {
     "data": {
      "text/plain": [
       "<matplotlib.axes._subplots.AxesSubplot at 0x7f48f785eb50>"
      ]
     },
     "execution_count": 171,
     "metadata": {},
     "output_type": "execute_result"
    },
    {
     "data": {
      "image/png": "[encoded data removed]",
      "text/plain": [
       "<Figure size 432x288 with 1 Axes>"
      ]
     },
     "metadata": {
      "needs_background": "light"
     },
     "output_type": "display_data"
    }
   ],
   "source": [
    "ax = tm_c2_antarctica_wrs2desc.plot(\"count\", cmap='rainbow')\n",
    "antarctica.boundary.plot(ax=ax,  edgecolor='black')"
   ]
  },
  {
   "cell_type": "markdown",
   "metadata": {},
   "source": [
    "### Total image counts for descending"
   ]
  },
  {
   "cell_type": "code",
   "execution_count": 175,
   "metadata": {},
   "outputs": [
    {
     "data": {
      "text/plain": [
       "209569"
      ]
     },
     "execution_count": 175,
     "metadata": {},
     "output_type": "execute_result"
    }
   ],
   "source": [
    "ot_c2_antarctica_wrs2desc['count'].sum().astype(int)"
   ]
  },
  {
   "cell_type": "code",
   "execution_count": 176,
   "metadata": {},
   "outputs": [
    {
     "data": {
      "text/plain": [
       "71920"
      ]
     },
     "execution_count": 176,
     "metadata": {},
     "output_type": "execute_result"
    }
   ],
   "source": [
    "etm_c2_antarctica_wrs2desc['count'].sum().astype(int)"
   ]
  },
  {
   "cell_type": "code",
   "execution_count": 174,
   "metadata": {},
   "outputs": [
    {
     "data": {
      "text/plain": [
       "8002"
      ]
     },
     "execution_count": 174,
     "metadata": {},
     "output_type": "execute_result"
    }
   ],
   "source": [
    "tm_c2_antarctica_wrs2desc['count'].sum().astype(int)"
   ]
  },
  {
   "cell_type": "code",
   "execution_count": 173,
   "metadata": {},
   "outputs": [
    {
     "data": {
      "text/html": [
       "<div>\n",
       "<style scoped>\n",
       "    .dataframe tbody tr th:only-of-type {\n",
       "        vertical-align: middle;\n",
       "    }\n",
       "\n",
       "    .dataframe tbody tr th {\n",
       "        vertical-align: top;\n",
       "    }\n",
       "\n",
       "    .dataframe thead th {\n",
       "        text-align: right;\n",
       "    }\n",
       "</style>\n",
       "<table border=\"1\" class=\"dataframe\">\n",
       "  <thead>\n",
       "    <tr style=\"text-align: right;\">\n",
       "      <th></th>\n",
       "      <th>Browse Link</th>\n",
       "      <th>Display ID</th>\n",
       "      <th>Ordering ID</th>\n",
       "      <th>Landsat Product Identifier L1</th>\n",
       "      <th>Landsat Scene Identifier</th>\n",
       "      <th>Date Acquired</th>\n",
       "      <th>Collection Category</th>\n",
       "      <th>Collection Number</th>\n",
       "      <th>Sensor Mode</th>\n",
       "      <th>WRS Path</th>\n",
       "      <th>...</th>\n",
       "      <th>Corner Upper Left Latitude</th>\n",
       "      <th>Corner Upper Left Longitude</th>\n",
       "      <th>Corner Upper Right Latitude</th>\n",
       "      <th>Corner Upper Right Longitude</th>\n",
       "      <th>Corner Lower Left Latitude</th>\n",
       "      <th>Corner Lower Left Longitude</th>\n",
       "      <th>Corner Lower Right Latitude</th>\n",
       "      <th>Corner Lower Right Longitude</th>\n",
       "      <th>PR</th>\n",
       "      <th>count</th>\n",
       "    </tr>\n",
       "  </thead>\n",
       "  <tbody>\n",
       "    <tr>\n",
       "      <th>19</th>\n",
       "      <td>https://landsatlook.usgs.gov/gen-browse?size=r...</td>\n",
       "      <td>LT04_L1GS_165109_19880215_20200917_02_T2</td>\n",
       "      <td>LT41651091988046XXX05</td>\n",
       "      <td>LT04_L1GS_165109_19880215_20200917_02_T2</td>\n",
       "      <td>LT41651091988046XXX05</td>\n",
       "      <td>1988/02/15</td>\n",
       "      <td>T2</td>\n",
       "      <td>2</td>\n",
       "      <td>NaN</td>\n",
       "      <td>165</td>\n",
       "      <td>...</td>\n",
       "      <td>-68.50519</td>\n",
       "      <td>13.14155</td>\n",
       "      <td>-69.15802</td>\n",
       "      <td>17.36128</td>\n",
       "      <td>-69.94027</td>\n",
       "      <td>11.05414</td>\n",
       "      <td>-70.63901</td>\n",
       "      <td>15.51105</td>\n",
       "      <td>165109</td>\n",
       "      <td>1</td>\n",
       "    </tr>\n",
       "    <tr>\n",
       "      <th>20</th>\n",
       "      <td>https://landsatlook.usgs.gov/gen-browse?size=r...</td>\n",
       "      <td>LT04_L1GS_165110_19880215_20200917_02_T2</td>\n",
       "      <td>LT41651101988046XXX03</td>\n",
       "      <td>LT04_L1GS_165110_19880215_20200917_02_T2</td>\n",
       "      <td>LT41651101988046XXX03</td>\n",
       "      <td>1988/02/15</td>\n",
       "      <td>T2</td>\n",
       "      <td>2</td>\n",
       "      <td>NaN</td>\n",
       "      <td>165</td>\n",
       "      <td>...</td>\n",
       "      <td>-69.79350</td>\n",
       "      <td>11.26500</td>\n",
       "      <td>-70.48726</td>\n",
       "      <td>15.69683</td>\n",
       "      <td>-71.20579</td>\n",
       "      <td>8.92024</td>\n",
       "      <td>-71.95138</td>\n",
       "      <td>13.60530</td>\n",
       "      <td>165110</td>\n",
       "      <td>1</td>\n",
       "    </tr>\n",
       "    <tr>\n",
       "      <th>23</th>\n",
       "      <td>https://landsatlook.usgs.gov/gen-browse?size=r...</td>\n",
       "      <td>LT04_L1GS_213108_19880215_20200917_02_T2</td>\n",
       "      <td>LT42131081988046XXX01</td>\n",
       "      <td>LT04_L1GS_213108_19880215_20200917_02_T2</td>\n",
       "      <td>LT42131081988046XXX01</td>\n",
       "      <td>1988/02/15</td>\n",
       "      <td>T2</td>\n",
       "      <td>2</td>\n",
       "      <td>NaN</td>\n",
       "      <td>213</td>\n",
       "      <td>...</td>\n",
       "      <td>-67.18521</td>\n",
       "      <td>-59.32597</td>\n",
       "      <td>-67.80122</td>\n",
       "      <td>-55.30533</td>\n",
       "      <td>-68.63943</td>\n",
       "      <td>-61.19443</td>\n",
       "      <td>-69.29623</td>\n",
       "      <td>-56.95370</td>\n",
       "      <td>213108</td>\n",
       "      <td>1</td>\n",
       "    </tr>\n",
       "    <tr>\n",
       "      <th>24</th>\n",
       "      <td>https://landsatlook.usgs.gov/gen-browse?size=r...</td>\n",
       "      <td>LT04_L1GS_213109_19880215_20200917_02_T2</td>\n",
       "      <td>LT42131091988046XXX02</td>\n",
       "      <td>LT04_L1GS_213109_19880215_20200917_02_T2</td>\n",
       "      <td>LT42131091988046XXX02</td>\n",
       "      <td>1988/02/15</td>\n",
       "      <td>T2</td>\n",
       "      <td>2</td>\n",
       "      <td>NaN</td>\n",
       "      <td>213</td>\n",
       "      <td>...</td>\n",
       "      <td>-68.50649</td>\n",
       "      <td>-61.02798</td>\n",
       "      <td>-69.15936</td>\n",
       "      <td>-56.80806</td>\n",
       "      <td>-69.94155</td>\n",
       "      <td>-63.11563</td>\n",
       "      <td>-70.64034</td>\n",
       "      <td>-58.65850</td>\n",
       "      <td>213109</td>\n",
       "      <td>1</td>\n",
       "    </tr>\n",
       "    <tr>\n",
       "      <th>25</th>\n",
       "      <td>https://landsatlook.usgs.gov/gen-browse?size=r...</td>\n",
       "      <td>LT04_L1GS_213110_19880215_20200917_02_T2</td>\n",
       "      <td>LT42131101988046XXX02</td>\n",
       "      <td>LT04_L1GS_213110_19880215_20200917_02_T2</td>\n",
       "      <td>LT42131101988046XXX02</td>\n",
       "      <td>1988/02/15</td>\n",
       "      <td>T2</td>\n",
       "      <td>2</td>\n",
       "      <td>NaN</td>\n",
       "      <td>213</td>\n",
       "      <td>...</td>\n",
       "      <td>-69.79478</td>\n",
       "      <td>-62.90515</td>\n",
       "      <td>-70.48858</td>\n",
       "      <td>-58.47310</td>\n",
       "      <td>-71.20705</td>\n",
       "      <td>-65.25019</td>\n",
       "      <td>-71.95268</td>\n",
       "      <td>-60.56490</td>\n",
       "      <td>213110</td>\n",
       "      <td>1</td>\n",
       "    </tr>\n",
       "    <tr>\n",
       "      <th>...</th>\n",
       "      <td>...</td>\n",
       "      <td>...</td>\n",
       "      <td>...</td>\n",
       "      <td>...</td>\n",
       "      <td>...</td>\n",
       "      <td>...</td>\n",
       "      <td>...</td>\n",
       "      <td>...</td>\n",
       "      <td>...</td>\n",
       "      <td>...</td>\n",
       "      <td>...</td>\n",
       "      <td>...</td>\n",
       "      <td>...</td>\n",
       "      <td>...</td>\n",
       "      <td>...</td>\n",
       "      <td>...</td>\n",
       "      <td>...</td>\n",
       "      <td>...</td>\n",
       "      <td>...</td>\n",
       "      <td>...</td>\n",
       "      <td>...</td>\n",
       "    </tr>\n",
       "    <tr>\n",
       "      <th>2573067</th>\n",
       "      <td>https://landsatlook.usgs.gov/gen-browse?size=r...</td>\n",
       "      <td>LT05_L1GS_072107_20040902_20200903_02_T2</td>\n",
       "      <td>LT50721072004246HOA00</td>\n",
       "      <td>LT05_L1GS_072107_20040902_20200903_02_T2</td>\n",
       "      <td>LT50721072004246HOA00</td>\n",
       "      <td>2004/09/02</td>\n",
       "      <td>T2</td>\n",
       "      <td>2</td>\n",
       "      <td>BUMPER</td>\n",
       "      <td>72</td>\n",
       "      <td>...</td>\n",
       "      <td>-65.86686</td>\n",
       "      <td>160.09410</td>\n",
       "      <td>-66.45041</td>\n",
       "      <td>163.93305</td>\n",
       "      <td>-67.33694</td>\n",
       "      <td>158.40875</td>\n",
       "      <td>-67.95691</td>\n",
       "      <td>162.45112</td>\n",
       "      <td>072107</td>\n",
       "      <td>1</td>\n",
       "    </tr>\n",
       "    <tr>\n",
       "      <th>2579336</th>\n",
       "      <td>https://landsatlook.usgs.gov/gen-browse?size=r...</td>\n",
       "      <td>LT05_L1GS_072107_20040614_20200903_02_T2</td>\n",
       "      <td>LT50721072004166HOA00</td>\n",
       "      <td>LT05_L1GS_072107_20040614_20200903_02_T2</td>\n",
       "      <td>LT50721072004166HOA00</td>\n",
       "      <td>2004/06/14</td>\n",
       "      <td>T2</td>\n",
       "      <td>2</td>\n",
       "      <td>BUMPER</td>\n",
       "      <td>72</td>\n",
       "      <td>...</td>\n",
       "      <td>-65.86701</td>\n",
       "      <td>160.06977</td>\n",
       "      <td>-66.45056</td>\n",
       "      <td>163.90874</td>\n",
       "      <td>-67.33708</td>\n",
       "      <td>158.38440</td>\n",
       "      <td>-67.95706</td>\n",
       "      <td>162.42679</td>\n",
       "      <td>072107</td>\n",
       "      <td>1</td>\n",
       "    </tr>\n",
       "    <tr>\n",
       "      <th>2584836</th>\n",
       "      <td>https://landsatlook.usgs.gov/gen-browse?size=r...</td>\n",
       "      <td>LT05_L1GS_072107_20040529_20200903_02_T2</td>\n",
       "      <td>LT50721072004150HOA00</td>\n",
       "      <td>LT05_L1GS_072107_20040529_20200903_02_T2</td>\n",
       "      <td>LT50721072004150HOA00</td>\n",
       "      <td>2004/05/29</td>\n",
       "      <td>T2</td>\n",
       "      <td>2</td>\n",
       "      <td>BUMPER</td>\n",
       "      <td>72</td>\n",
       "      <td>...</td>\n",
       "      <td>-65.86495</td>\n",
       "      <td>160.07721</td>\n",
       "      <td>-66.44846</td>\n",
       "      <td>163.91591</td>\n",
       "      <td>-67.33505</td>\n",
       "      <td>158.39211</td>\n",
       "      <td>-67.95498</td>\n",
       "      <td>162.43420</td>\n",
       "      <td>072107</td>\n",
       "      <td>1</td>\n",
       "    </tr>\n",
       "    <tr>\n",
       "      <th>2595465</th>\n",
       "      <td>https://landsatlook.usgs.gov/gen-browse?size=r...</td>\n",
       "      <td>LT05_L1GS_072107_20040427_20200903_02_T2</td>\n",
       "      <td>LT50721072004118HOA00</td>\n",
       "      <td>LT05_L1GS_072107_20040427_20200903_02_T2</td>\n",
       "      <td>LT50721072004118HOA00</td>\n",
       "      <td>2004/04/27</td>\n",
       "      <td>T2</td>\n",
       "      <td>2</td>\n",
       "      <td>BUMPER</td>\n",
       "      <td>72</td>\n",
       "      <td>...</td>\n",
       "      <td>-65.86778</td>\n",
       "      <td>160.08036</td>\n",
       "      <td>-66.45135</td>\n",
       "      <td>163.91943</td>\n",
       "      <td>-67.33785</td>\n",
       "      <td>158.39489</td>\n",
       "      <td>-67.95785</td>\n",
       "      <td>162.43739</td>\n",
       "      <td>072107</td>\n",
       "      <td>1</td>\n",
       "    </tr>\n",
       "    <tr>\n",
       "      <th>2619561</th>\n",
       "      <td>https://landsatlook.usgs.gov/gen-browse?size=r...</td>\n",
       "      <td>LT05_L1GS_072107_20040817_20200903_02_T2</td>\n",
       "      <td>LT50721072004230HOA00</td>\n",
       "      <td>LT05_L1GS_072107_20040817_20200903_02_T2</td>\n",
       "      <td>LT50721072004230HOA00</td>\n",
       "      <td>2004/08/17</td>\n",
       "      <td>T2</td>\n",
       "      <td>2</td>\n",
       "      <td>BUMPER</td>\n",
       "      <td>72</td>\n",
       "      <td>...</td>\n",
       "      <td>-65.87384</td>\n",
       "      <td>160.09074</td>\n",
       "      <td>-66.45755</td>\n",
       "      <td>163.93061</td>\n",
       "      <td>-67.34385</td>\n",
       "      <td>158.40450</td>\n",
       "      <td>-67.96400</td>\n",
       "      <td>162.44787</td>\n",
       "      <td>072107</td>\n",
       "      <td>1</td>\n",
       "    </tr>\n",
       "  </tbody>\n",
       "</table>\n",
       "<p>10283 rows × 58 columns</p>\n",
       "</div>"
      ],
      "text/plain": [
       "                                               Browse Link  \\\n",
       "19       https://landsatlook.usgs.gov/gen-browse?size=r...   \n",
       "20       https://landsatlook.usgs.gov/gen-browse?size=r...   \n",
       "23       https://landsatlook.usgs.gov/gen-browse?size=r...   \n",
       "24       https://landsatlook.usgs.gov/gen-browse?size=r...   \n",
       "25       https://landsatlook.usgs.gov/gen-browse?size=r...   \n",
       "...                                                    ...   \n",
       "2573067  https://landsatlook.usgs.gov/gen-browse?size=r...   \n",
       "2579336  https://landsatlook.usgs.gov/gen-browse?size=r...   \n",
       "2584836  https://landsatlook.usgs.gov/gen-browse?size=r...   \n",
       "2595465  https://landsatlook.usgs.gov/gen-browse?size=r...   \n",
       "2619561  https://landsatlook.usgs.gov/gen-browse?size=r...   \n",
       "\n",
       "                                       Display ID            Ordering ID  \\\n",
       "19       LT04_L1GS_165109_19880215_20200917_02_T2  LT41651091988046XXX05   \n",
       "20       LT04_L1GS_165110_19880215_20200917_02_T2  LT41651101988046XXX03   \n",
       "23       LT04_L1GS_213108_19880215_20200917_02_T2  LT42131081988046XXX01   \n",
       "24       LT04_L1GS_213109_19880215_20200917_02_T2  LT42131091988046XXX02   \n",
       "25       LT04_L1GS_213110_19880215_20200917_02_T2  LT42131101988046XXX02   \n",
       "...                                           ...                    ...   \n",
       "2573067  LT05_L1GS_072107_20040902_20200903_02_T2  LT50721072004246HOA00   \n",
       "2579336  LT05_L1GS_072107_20040614_20200903_02_T2  LT50721072004166HOA00   \n",
       "2584836  LT05_L1GS_072107_20040529_20200903_02_T2  LT50721072004150HOA00   \n",
       "2595465  LT05_L1GS_072107_20040427_20200903_02_T2  LT50721072004118HOA00   \n",
       "2619561  LT05_L1GS_072107_20040817_20200903_02_T2  LT50721072004230HOA00   \n",
       "\n",
       "                    Landsat Product Identifier L1 Landsat Scene Identifier  \\\n",
       "19       LT04_L1GS_165109_19880215_20200917_02_T2    LT41651091988046XXX05   \n",
       "20       LT04_L1GS_165110_19880215_20200917_02_T2    LT41651101988046XXX03   \n",
       "23       LT04_L1GS_213108_19880215_20200917_02_T2    LT42131081988046XXX01   \n",
       "24       LT04_L1GS_213109_19880215_20200917_02_T2    LT42131091988046XXX02   \n",
       "25       LT04_L1GS_213110_19880215_20200917_02_T2    LT42131101988046XXX02   \n",
       "...                                           ...                      ...   \n",
       "2573067  LT05_L1GS_072107_20040902_20200903_02_T2    LT50721072004246HOA00   \n",
       "2579336  LT05_L1GS_072107_20040614_20200903_02_T2    LT50721072004166HOA00   \n",
       "2584836  LT05_L1GS_072107_20040529_20200903_02_T2    LT50721072004150HOA00   \n",
       "2595465  LT05_L1GS_072107_20040427_20200903_02_T2    LT50721072004118HOA00   \n",
       "2619561  LT05_L1GS_072107_20040817_20200903_02_T2    LT50721072004230HOA00   \n",
       "\n",
       "        Date Acquired Collection Category  Collection Number Sensor Mode  \\\n",
       "19         1988/02/15                  T2                  2         NaN   \n",
       "20         1988/02/15                  T2                  2         NaN   \n",
       "23         1988/02/15                  T2                  2         NaN   \n",
       "24         1988/02/15                  T2                  2         NaN   \n",
       "25         1988/02/15                  T2                  2         NaN   \n",
       "...               ...                 ...                ...         ...   \n",
       "2573067    2004/09/02                  T2                  2      BUMPER   \n",
       "2579336    2004/06/14                  T2                  2      BUMPER   \n",
       "2584836    2004/05/29                  T2                  2      BUMPER   \n",
       "2595465    2004/04/27                  T2                  2      BUMPER   \n",
       "2619561    2004/08/17                  T2                  2      BUMPER   \n",
       "\n",
       "         WRS Path  ...  Corner Upper Left Latitude  \\\n",
       "19            165  ...                   -68.50519   \n",
       "20            165  ...                   -69.79350   \n",
       "23            213  ...                   -67.18521   \n",
       "24            213  ...                   -68.50649   \n",
       "25            213  ...                   -69.79478   \n",
       "...           ...  ...                         ...   \n",
       "2573067        72  ...                   -65.86686   \n",
       "2579336        72  ...                   -65.86701   \n",
       "2584836        72  ...                   -65.86495   \n",
       "2595465        72  ...                   -65.86778   \n",
       "2619561        72  ...                   -65.87384   \n",
       "\n",
       "        Corner Upper Left Longitude Corner Upper Right Latitude  \\\n",
       "19                         13.14155                   -69.15802   \n",
       "20                         11.26500                   -70.48726   \n",
       "23                        -59.32597                   -67.80122   \n",
       "24                        -61.02798                   -69.15936   \n",
       "25                        -62.90515                   -70.48858   \n",
       "...                             ...                         ...   \n",
       "2573067                   160.09410                   -66.45041   \n",
       "2579336                   160.06977                   -66.45056   \n",
       "2584836                   160.07721                   -66.44846   \n",
       "2595465                   160.08036                   -66.45135   \n",
       "2619561                   160.09074                   -66.45755   \n",
       "\n",
       "        Corner Upper Right Longitude Corner Lower Left Latitude  \\\n",
       "19                          17.36128                  -69.94027   \n",
       "20                          15.69683                  -71.20579   \n",
       "23                         -55.30533                  -68.63943   \n",
       "24                         -56.80806                  -69.94155   \n",
       "25                         -58.47310                  -71.20705   \n",
       "...                              ...                        ...   \n",
       "2573067                    163.93305                  -67.33694   \n",
       "2579336                    163.90874                  -67.33708   \n",
       "2584836                    163.91591                  -67.33505   \n",
       "2595465                    163.91943                  -67.33785   \n",
       "2619561                    163.93061                  -67.34385   \n",
       "\n",
       "        Corner Lower Left Longitude Corner Lower Right Latitude  \\\n",
       "19                         11.05414                   -70.63901   \n",
       "20                          8.92024                   -71.95138   \n",
       "23                        -61.19443                   -69.29623   \n",
       "24                        -63.11563                   -70.64034   \n",
       "25                        -65.25019                   -71.95268   \n",
       "...                             ...                         ...   \n",
       "2573067                   158.40875                   -67.95691   \n",
       "2579336                   158.38440                   -67.95706   \n",
       "2584836                   158.39211                   -67.95498   \n",
       "2595465                   158.39489                   -67.95785   \n",
       "2619561                   158.40450                   -67.96400   \n",
       "\n",
       "         Corner Lower Right Longitude      PR  count  \n",
       "19                           15.51105  165109      1  \n",
       "20                           13.60530  165110      1  \n",
       "23                          -56.95370  213108      1  \n",
       "24                          -58.65850  213109      1  \n",
       "25                          -60.56490  213110      1  \n",
       "...                               ...     ...    ...  \n",
       "2573067                     162.45112  072107      1  \n",
       "2579336                     162.42679  072107      1  \n",
       "2584836                     162.43420  072107      1  \n",
       "2595465                     162.43739  072107      1  \n",
       "2619561                     162.44787  072107      1  \n",
       "\n",
       "[10283 rows x 58 columns]"
      ]
     },
     "execution_count": 173,
     "metadata": {},
     "output_type": "execute_result"
    }
   ],
   "source": [
    "tm_c2[tm_c2['Product Map Projection L1'] == 'PS']"
   ]
  },
  {
   "cell_type": "code",
   "execution_count": null,
   "metadata": {},
   "outputs": [],
   "source": []
  }
 ],
 "metadata": {
  "kernelspec": {
   "display_name": "Python 3",
   "language": "python",
   "name": "python3"
  },
  "language_info": {
   "codemirror_mode": {
    "name": "ipython",
    "version": 3
   },
   "file_extension": ".py",
   "mimetype": "text/x-python",
   "name": "python",
   "nbconvert_exporter": "python",
   "pygments_lexer": "ipython3",
   "version": "3.7.6"
  }
 },
 "nbformat": 4,
 "nbformat_minor": 4
}
